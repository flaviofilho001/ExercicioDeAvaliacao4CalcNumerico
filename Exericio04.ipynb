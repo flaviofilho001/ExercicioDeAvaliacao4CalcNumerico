{
 "cells": [
  {
   "cell_type": "code",
   "execution_count": 1,
   "id": "7e08b4e9-a6e1-453c-b2d4-82770f5b0280",
   "metadata": {},
   "outputs": [],
   "source": [
    "import numpy as np\n"
   ]
  },
  {
   "cell_type": "code",
   "execution_count": 2,
   "id": "d747f67f-ce60-4a8e-8c66-2d30dc74bc2b",
   "metadata": {},
   "outputs": [
    {
     "name": "stdout",
     "output_type": "stream",
     "text": [
      "Euler: 0.53888\n",
      "Runge-Kutta 3ª ordem: 0.5671710710308493\n"
     ]
    }
   ],
   "source": [
    "# Questão 01 , função f(x, y) da EDO\n",
    "def f(x, y):\n",
    "    return -2 * y + 1\n",
    "\n",
    "# Método de Euler\n",
    "def euler_method(f, x0, y0, h, x_final):\n",
    "    x_values = np.arange(x0, x_final + h, h)\n",
    "    y_values = np.zeros(len(x_values))\n",
    "    y_values[0] = y0\n",
    "    for i in range(1, len(x_values)):\n",
    "        y_values[i] = y_values[i-1] + h * f(x_values[i-1], y_values[i-1])\n",
    "    return x_values, y_values\n",
    "\n",
    "# Método de Runge-Kutta de 3ª ordem\n",
    "def runge_kutta_3(f, x0, y0, h, x_final):\n",
    "    x_values = np.arange(x0, x_final + h, h)\n",
    "    y_values = np.zeros(len(x_values))\n",
    "    y_values[0] = y0\n",
    "    for i in range(1, len(x_values)):\n",
    "        k1 = h * f(x_values[i-1], y_values[i-1])\n",
    "        k2 = h * f(x_values[i-1] + h/2, y_values[i-1] + k1/2)\n",
    "        k3 = h * f(x_values[i-1] + h, y_values[i-1] - k1 + 2*k2)\n",
    "        y_values[i] = y_values[i-1] + (k1 + 4*k2 + k3) / 6\n",
    "    return x_values, y_values\n",
    "\n",
    "# Parâmetros\n",
    "x0 = 0\n",
    "y0 = 1  # condição inicial\n",
    "h = 0.2\n",
    "x_final = 1\n",
    "\n",
    "# Solução pelos dois métodos\n",
    "x_euler, y_euler = euler_method(f, x0, y0, h, x_final)\n",
    "x_rk3, y_rk3 = runge_kutta_3(f, x0, y0, h, x_final)\n",
    "\n",
    "# Exibir resultados\n",
    "print(\"Euler:\", y_euler[-1])\n",
    "print(\"Runge-Kutta 3ª ordem:\", y_rk3[-1])"
   ]
  },
  {
   "cell_type": "code",
   "execution_count": 3,
   "id": "572ddd81-754a-422f-9d8f-92c92ec39c78",
   "metadata": {},
   "outputs": [
    {
     "name": "stdout",
     "output_type": "stream",
     "text": [
      "t = 0.0s, v = 8.00m/s\n",
      "t = 0.1s, v = 8.86m/s\n",
      "t = 0.2s, v = 9.70m/s\n",
      "t = 0.3s, v = 10.51m/s\n",
      "t = 0.4s, v = 11.29m/s\n",
      "t = 0.5s, v = 12.04m/s\n",
      "t = 0.6s, v = 12.75m/s\n",
      "t = 0.7s, v = 13.44m/s\n",
      "t = 0.8s, v = 14.09m/s\n",
      "t = 0.9s, v = 14.71m/s\n",
      "t = 1.0s, v = 15.30m/s\n"
     ]
    }
   ],
   "source": [
    "# Questão 02 - Constantes\n",
    "m = 0.11  # massa do projétil (kg)\n",
    "g = 9.8  # aceleração da gravidade (m/s²)\n",
    "k = 0.002  # constante de resistência do ar\n",
    "v0 = 8  # velocidade inicial (m/s)\n",
    "\n",
    "# Função para a equação diferencial v' = (mg - kv|v|)/m\n",
    "def projectile_velocity(t, v):\n",
    "    return (m * g - k * v * abs(v)) / m\n",
    "\n",
    "# Método de Euler para calcular a velocidade\n",
    "def euler_projectile(f, v0, h, t_final):\n",
    "    t_values = np.arange(0, t_final + h, h)\n",
    "    v_values = np.zeros(len(t_values))\n",
    "    v_values[0] = v0\n",
    "    for i in range(1, len(t_values)):\n",
    "        v_values[i] = v_values[i-1] + h * f(t_values[i-1], v_values[i-1])\n",
    "    return t_values, v_values\n",
    "\n",
    "# Parâmetros\n",
    "h = 0.1\n",
    "t_final = 1.0\n",
    "\n",
    "# Solução\n",
    "t_values, v_values = euler_projectile(projectile_velocity, v0, h, t_final)\n",
    "\n",
    "# Exibir resultados\n",
    "for t, v in zip(t_values, v_values):\n",
    "    print(f\"t = {t:.1f}s, v = {v:.2f}m/s\")"
   ]
  },
  {
   "cell_type": "code",
   "execution_count": 4,
   "id": "ec7f1227-e95e-49a8-baa1-4552609ad479",
   "metadata": {},
   "outputs": [
    {
     "name": "stdout",
     "output_type": "stream",
     "text": [
      "População após 5 anos: 56751\n"
     ]
    }
   ],
   "source": [
    "# Parâmetros do problema\n",
    "b = 2.9e-2\n",
    "k = 1.4e-7\n",
    "P0 = 50976  # população inicial\n",
    "t_final = 5  # tempo final (anos)\n",
    "\n",
    "# Função da equação diferencial logística\n",
    "def logistic_growth(t, P):\n",
    "    return b * P - k * P**2\n",
    "\n",
    "# Método de Runge-Kutta de 4ª ordem\n",
    "def runge_kutta_4(f, t0, P0, h, t_final):\n",
    "    t_values = np.arange(t0, t_final + h, h)\n",
    "    P_values = np.zeros(len(t_values))\n",
    "    P_values[0] = P0\n",
    "    for i in range(1, len(t_values)):\n",
    "        k1 = h * f(t_values[i-1], P_values[i-1])\n",
    "        k2 = h * f(t_values[i-1] + h/2, P_values[i-1] + k1/2)\n",
    "        k3 = h * f(t_values[i-1] + h/2, P_values[i-1] + k2/2)\n",
    "        k4 = h * f(t_values[i-1] + h, P_values[i-1] + k3)\n",
    "        P_values[i] = P_values[i-1] + (k1 + 2*k2 + 2*k3 + k4) / 6\n",
    "    return t_values, P_values\n",
    "\n",
    "# Parâmetros\n",
    "h = 0.1\n",
    "\n",
    "# Solução\n",
    "t_values, P_values = runge_kutta_4(logistic_growth, 0, P0, h, t_final)\n",
    "\n",
    "# Exibir resultado\n",
    "print(f\"População após 5 anos: {P_values[-1]:.0f}\")"
   ]
  },
  {
   "cell_type": "code",
   "execution_count": null,
   "id": "3a728c30-6655-49d0-8b3a-12986d716baf",
   "metadata": {},
   "outputs": [],
   "source": []
  }
 ],
 "metadata": {
  "kernelspec": {
   "display_name": "Python 3 (ipykernel)",
   "language": "python",
   "name": "python3"
  },
  "language_info": {
   "codemirror_mode": {
    "name": "ipython",
    "version": 3
   },
   "file_extension": ".py",
   "mimetype": "text/x-python",
   "name": "python",
   "nbconvert_exporter": "python",
   "pygments_lexer": "ipython3",
   "version": "3.12.0"
  }
 },
 "nbformat": 4,
 "nbformat_minor": 5
}
